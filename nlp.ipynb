{
 "cells": [
  {
   "cell_type": "code",
   "execution_count": 1,
   "metadata": {},
   "outputs": [],
   "source": [
    "from gensim.models import Word2Vec\n",
    "import numpy as np\n",
    "from sklearn.preprocessing import normalize\n",
    "import multiprocessing\n",
    "from eunjeon import Mecab"
   ]
  },
  {
   "cell_type": "code",
   "execution_count": 2,
   "metadata": {},
   "outputs": [],
   "source": [
    "raw_sentence_file_name = './dataset/nsmc/processed/processed_ratings.txt'\n",
    "tokenized_sentence_file_name = './dataset/nsmc/processed/processed_ratings_tokenized.txt'\n",
    "w2v_model_file_name = './dataset/nsmc/model/w2v/w2v'\n",
    "\n",
    "MAX_VOCAB_SIZE = 10000\n",
    "EMBEDDING_SIZE = 100\n",
    "WORKERS = multiprocessing.cpu_count() - 1\n",
    "WINDOW_SIZE = 5\n",
    "EPOCHS = 10"
   ]
  },
  {
   "cell_type": "code",
   "execution_count": 16,
   "metadata": {},
   "outputs": [],
   "source": [
    "UNK_TOKEN = '<UNK>'\n",
    "PAD_TOKEN = '<PAD>'\n",
    "tokenizer = Mecab()"
   ]
  },
  {
   "cell_type": "code",
   "execution_count": 4,
   "metadata": {},
   "outputs": [],
   "source": [
    "def create_tokenized_sentence_file(raw_file_name, out_file_name, tokenizer):    \n",
    "    print(f'Tokenizing을 시작합니다. {raw_file_name}')\n",
    "    with open(raw_file_name, 'r', encoding='utf-8') as fi, \\\n",
    "        open(out_file_name, 'w', encoding='utf-8') as fo :\n",
    "        for i, sentence in enumerate(fi):\n",
    "            tokenized_words = tokenizer.morphs(sentence.replace('\\n', '').strip())\n",
    "            fo.writelines(' '.join(tokenized_words) + '\\n')\n",
    "            \n",
    "            if i % 10000 == 0 and i > 0:\n",
    "                print(f'{i} 번째 tokenizing이 완료되었습니다.')\n",
    "    \n",
    "    print(f'Tokenizing이 완료되었습니다. {out_file_name}')                \n",
    "    "
   ]
  },
  {
   "cell_type": "code",
   "execution_count": null,
   "metadata": {},
   "outputs": [],
   "source": [
    "create_tokenized_sentence_file(\n",
    "    raw_sentence_file_name, tokenized_sentence_file_name, Mecab())"
   ]
  },
  {
   "cell_type": "code",
   "execution_count": null,
   "metadata": {},
   "outputs": [],
   "source": []
  },
  {
   "cell_type": "code",
   "execution_count": null,
   "metadata": {},
   "outputs": [],
   "source": [
    "def make_w2v_model(in_file_name, out_file_name,\n",
    "                   max_vocab_size=10000, embedding_size=100,\n",
    "                   epochs=10, window=5, workers=3):\n",
    "    # 빈도수 상위 vocab_size 내에 존재하는 단어 중 최소 빈도수를 구함\n",
    "    def get_min_freq_count(sentences, max_freq_rank):\n",
    "        from itertools import chain\n",
    "        import nltk\n",
    "\n",
    "        fdist = nltk.FreqDist(chain.from_iterable(sentences))\n",
    "        return fdist.most_common(max_freq_rank)[-1][1] # the count of the the top-kth word\n",
    "\n",
    "    # 단어 모음\n",
    "    corpus = [sentence.strip().split(' ') \n",
    "              for sentence in open(in_file_name, 'r', encoding='utf-8').readlines()]\n",
    "    # 빈도수 상위 n위의 최소빈도수 구함 (word2vec 훈련 시 그 이하는 버리기 위함)\n",
    "    min_freq_cnt = get_min_freq_count(corpus, max_vocab_size)\n",
    "    \n",
    "    # gensim word2vec call\n",
    "    w2v_model = Word2Vec(corpus, \n",
    "                     size=embedding_size, \n",
    "                     workers=workers, \n",
    "                     min_count=min_freq_cnt,\n",
    "                     sg=1, \n",
    "                     iter=epochs,\n",
    "                     window=window)\n",
    "    # 저장\n",
    "    w2v_model.save(model_fname)        \n",
    "    \n",
    "    return _post_w2v_process(w2v_model)   \n",
    "    "
   ]
  },
  {
   "cell_type": "code",
   "execution_count": 5,
   "metadata": {},
   "outputs": [],
   "source": [
    "def _post_w2v_process(w2v_model):    \n",
    "    # unknown, padding 토큰 추가\n",
    "    def _append_unk_pad_vectors(embeddings):\n",
    "        embedding_size = embeddings.shape[1]\n",
    "        def get_truncated_normal(mean=0, sd=1, low=-1, upp=1):\n",
    "            from scipy.stats import truncnorm\n",
    "            return truncnorm(\n",
    "                    (low - mean) / sd, (upp - mean) / sd, loc=mean, scale=sd)\n",
    "\n",
    "        return np.append(embeddings, \n",
    "                         get_truncated_normal().rvs(embedding_size * 2).reshape(2, embedding_size), axis=0)    \n",
    "        \n",
    "    index2word = w2v_model.wv.index2word\n",
    "    # unk, pad 추가\n",
    "    index2word.append( UNK_TOKEN )\n",
    "    index2word.append( PAD_TOKEN )    \n",
    "    \n",
    "    w2v = w2v_model.wv.vectors\n",
    "    # unk, pad에 해당하는 normal 초기화된 벡터 추가\n",
    "    w2v = _append_unk_pad_vectors(w2v)\n",
    "    # cosine유사도 체크를 위해 normalize\n",
    "    unit_w2v = normalize(w2v, norm='l2', axis=1)\n",
    "\n",
    "    # word를 index로 변환\n",
    "    word2index = {w:i for i, w in enumerate(index2word)}\n",
    "    # 사전. word를 vector로 변환\n",
    "    dictionary = {w:v for w, v in zip(index2word, unit_w2v)}    \n",
    "    \n",
    "    return w2v_model, index2word, word2index, dictionary, unit_w2v"
   ]
  },
  {
   "cell_type": "code",
   "execution_count": null,
   "metadata": {},
   "outputs": [],
   "source": [
    "# word2vec 모델 만들고 저장. 그 외 필요한 값들 리턴\n",
    "w2v_model, index2word, word2index, dictionary, unit_w2v = \\\n",
    "    make_w2v_model(tokenized_sentence_file_name, \n",
    "                   w2v_model_file_name, \n",
    "                   max_vocab_size=MAX_VOCAB_SIZE, \n",
    "                   embedding_size=EMBEDDING_SIZE,\n",
    "                   epochs=EPOCHS,\n",
    "                   window=WINDOW_SIZE,\n",
    "                   workers=WORKERS)"
   ]
  },
  {
   "cell_type": "code",
   "execution_count": 8,
   "metadata": {},
   "outputs": [
    {
     "name": "stdout",
     "output_type": "stream",
     "text": [
      "10103\n",
      "10103\n",
      "10103\n",
      "합니다\n",
      "2583\n",
      "[ 0.04488257 -0.08638541 -0.11681433  0.20049859  0.10155382  0.13070424\n",
      " -0.01930784  0.01697905 -0.18308764 -0.01801016 -0.04513846 -0.03508925\n",
      " -0.03764806  0.05366753 -0.00871233  0.05305303  0.03162769 -0.16336043\n",
      " -0.10599274 -0.04344547  0.01514467  0.07553398 -0.05830617 -0.0450295\n",
      " -0.05237505 -0.06838317 -0.01582227 -0.13957131 -0.10054326 -0.11457788\n",
      " -0.13638287  0.01462429 -0.04491218  0.03531386  0.10436558 -0.0394524\n",
      " -0.1022159   0.14179352  0.00759276  0.19943246 -0.12810362 -0.01620154\n",
      "  0.09475664  0.01782707  0.09488865 -0.22739975 -0.13044281  0.01617008\n",
      "  0.07780829 -0.06126102 -0.19827182  0.02977186  0.022885   -0.08928509\n",
      "  0.27417429  0.05611684 -0.10096212  0.04752864 -0.06542809 -0.22387225\n",
      " -0.08617626  0.17361759 -0.10983343 -0.08201186 -0.03511096  0.00191257\n",
      " -0.06977492 -0.08441662  0.05033234  0.0575619  -0.03810816  0.15659335\n",
      "  0.13429893  0.0512108   0.04728433  0.150782    0.11611874  0.03913846\n",
      "  0.04445213  0.15805049  0.01740765 -0.10545955 -0.07576387 -0.10089641\n",
      " -0.00873245 -0.10170759  0.05747919  0.04459924  0.03314022 -0.14717455\n",
      " -0.00514626 -0.12250176 -0.02297981  0.11918561  0.07434119  0.17276609\n",
      " -0.00726315  0.02845489  0.11763601  0.12059717]\n"
     ]
    }
   ],
   "source": [
    "print( len(index2word) )\n",
    "print( len(word2index) )\n",
    "print( len(dictionary) )\n",
    "\n",
    "print( index2word[200] )\n",
    "print( word2index['송강호'] )\n",
    "print( dictionary['송강호'] )"
   ]
  },
  {
   "cell_type": "code",
   "execution_count": 6,
   "metadata": {},
   "outputs": [],
   "source": [
    "# 훈련 완료된 모델 있으면 로드해서 쓴다.\n",
    "def load_w2v_model(model_file_name):\n",
    "    w2v_model = Word2Vec.load(model_file_name)\n",
    "\n",
    "    return _post_w2v_process(w2v_model)"
   ]
  },
  {
   "cell_type": "code",
   "execution_count": 7,
   "metadata": {},
   "outputs": [],
   "source": [
    "# 훈련 완료된 모델 있으면 로드해서 쓴다.\n",
    "w2v_model, index2word, word2index, dictionary, unit_w2v = \\\n",
    "    load_w2v_model(w2v_model_file_name)"
   ]
  },
  {
   "cell_type": "code",
   "execution_count": 43,
   "metadata": {},
   "outputs": [],
   "source": [
    "import tensorflow as tf\n",
    "from tensorflow.keras.models import Sequential\n",
    "from tensorflow.keras.layers import Dense, Embedding, Activation\n",
    "from keras.preprocessing.sequence import pad_sequences"
   ]
  },
  {
   "cell_type": "code",
   "execution_count": null,
   "metadata": {},
   "outputs": [],
   "source": [
    "'''\n",
    "model = Sequential()\n",
    "model.add(w2v_model.wv.get_keras_embedding(train_embeddings=False))\n",
    "model.add(Dense(128, activation='relu'))\n",
    "model.add(Dense(64, activation='relu'))\n",
    "model.add(Dense(1, activation='sigmoid')) # 출력층\n",
    "model.summary()\n",
    "'''"
   ]
  },
  {
   "cell_type": "code",
   "execution_count": 12,
   "metadata": {},
   "outputs": [],
   "source": [
    "train_fname = './dataset/nsmc/processed/processed_ratings_train.txt'\n",
    "test_fname = './dataset/nsmc/processed/processed_ratings_test.txt'"
   ]
  },
  {
   "cell_type": "code",
   "execution_count": 17,
   "metadata": {},
   "outputs": [],
   "source": [
    "def load_dataset(filename):\n",
    "    X, y = [], []\n",
    "    tokenizer = Mecab()\n",
    "    with open(filename, 'r', encoding='utf-8') as f:\n",
    "        for i, line in enumerate(f):\n",
    "            # 문장과 label 읽음\n",
    "            sentence, label = line.strip().split('\\u241E')\n",
    "            # 문장 tokenizing\n",
    "            tokenized_sentence = tokenizer.morphs(sentence.replace('\\n', '').strip())\n",
    "            # word -> vecs\n",
    "            sequence = [word2index[t] if t in word2index else word2index[ UNK_TOKEN ]\n",
    "                                    for t in tokenized_sentence]\n",
    "            X.append( sequence )\n",
    "            y.append( int(label) )\n",
    "\n",
    "    # 최대 길이로 padding\n",
    "    X = pad_sequences( X, maxlen=20, padding='post', value=word2index[PAD_TOKEN] )\n",
    "    X = [unit_w2v[x] for x in X]\n",
    "    return np.array(X), np.array(y)\n",
    "\n",
    "        "
   ]
  },
  {
   "cell_type": "code",
   "execution_count": 18,
   "metadata": {},
   "outputs": [
    {
     "name": "stdout",
     "output_type": "stream",
     "text": [
      "(149995, 20, 100)\n",
      "(149995,)\n",
      "(49997, 20, 100)\n",
      "(49997,)\n"
     ]
    }
   ],
   "source": [
    "train_X, train_y = load_dataset(train_fname)\n",
    "test_X, test_y = load_dataset(test_fname)\n",
    "\n",
    "print(train_X.shape)\n",
    "print(train_y.shape)\n",
    "print(test_X.shape)\n",
    "print(test_y.shape)"
   ]
  },
  {
   "cell_type": "code",
   "execution_count": 19,
   "metadata": {},
   "outputs": [
    {
     "name": "stdout",
     "output_type": "stream",
     "text": [
      "[[ 0.09529088  0.01429527 -0.03840789 ...  0.0364302   0.16703626\n",
      "  -0.04981438]\n",
      " [ 0.0948733  -0.10464905 -0.07920648 ... -0.20888194  0.02951386\n",
      "   0.06941504]\n",
      " [-0.12498525  0.01683704 -0.02195003 ...  0.21083888 -0.00475559\n",
      "  -0.05342693]\n",
      " ...\n",
      " [-0.13996338 -0.17214974  0.1475329  ...  0.17202141  0.00136334\n",
      "   0.10124371]\n",
      " [-0.13996338 -0.17214974  0.1475329  ...  0.17202141  0.00136334\n",
      "   0.10124371]\n",
      " [-0.13996338 -0.17214974  0.1475329  ...  0.17202141  0.00136334\n",
      "   0.10124371]]\n"
     ]
    }
   ],
   "source": [
    "print( train_X[0] )"
   ]
  },
  {
   "cell_type": "code",
   "execution_count": 29,
   "metadata": {},
   "outputs": [],
   "source": [
    "input_dim, output_dim = w2v_model.wv.vectors.shape"
   ]
  },
  {
   "cell_type": "code",
   "execution_count": 46,
   "metadata": {},
   "outputs": [
    {
     "data": {
      "text/plain": [
       "(149995,)"
      ]
     },
     "execution_count": 46,
     "metadata": {},
     "output_type": "execute_result"
    }
   ],
   "source": [
    "train_y.shape"
   ]
  },
  {
   "cell_type": "code",
   "execution_count": 44,
   "metadata": {},
   "outputs": [
    {
     "name": "stdout",
     "output_type": "stream",
     "text": [
      "Model: \"sequential_4\"\n",
      "_________________________________________________________________\n",
      "Layer (type)                 Output Shape              Param #   \n",
      "=================================================================\n",
      "embedding_4 (Embedding)      (None, None, 100)         1010100   \n",
      "_________________________________________________________________\n",
      "dense_9 (Dense)              (None, None, 128)         12928     \n",
      "_________________________________________________________________\n",
      "dense_10 (Dense)             (None, None, 64)          8256      \n",
      "_________________________________________________________________\n",
      "dense_11 (Dense)             (None, None, 2)           130       \n",
      "_________________________________________________________________\n",
      "activation (Activation)      (None, None, 2)           0         \n",
      "=================================================================\n",
      "Total params: 1,031,414\n",
      "Trainable params: 1,031,414\n",
      "Non-trainable params: 0\n",
      "_________________________________________________________________\n"
     ]
    }
   ],
   "source": [
    "model = Sequential()\n",
    "\n",
    "model.add(Embedding(\n",
    "    input_dim=input_dim, \n",
    "    output_dim=output_dim, \n",
    "    weights=[w2v_model.wv.vectors]))\n",
    "model.add(Dense(128, activation='relu'))\n",
    "model.add(Dense(64, activation='relu'))\n",
    "model.add(Dense(2))\n",
    "model.add(Activation('softmax'))\n",
    "model.summary()\n"
   ]
  },
  {
   "cell_type": "code",
   "execution_count": 45,
   "metadata": {},
   "outputs": [
    {
     "name": "stdout",
     "output_type": "stream",
     "text": [
      "Epoch 1/5\n",
      "WARNING:tensorflow:Model was constructed with shape (None, None) for input KerasTensor(type_spec=TensorSpec(shape=(None, None), dtype=tf.float32, name='embedding_4_input'), name='embedding_4_input', description=\"created by layer 'embedding_4_input'\"), but it was called on an input with incompatible shape (None, 20, 100).\n",
      "WARNING:tensorflow:Model was constructed with shape (None, None) for input KerasTensor(type_spec=TensorSpec(shape=(None, None), dtype=tf.float32, name='embedding_4_input'), name='embedding_4_input', description=\"created by layer 'embedding_4_input'\"), but it was called on an input with incompatible shape (None, 20, 100).\n"
     ]
    },
    {
     "ename": "InvalidArgumentError",
     "evalue": "2 root error(s) found.\n  (0) Invalid argument:  logits and labels must have the same first dimension, got logits shape [64000,2] and labels shape [32]\n\t [[node sparse_categorical_crossentropy/SparseSoftmaxCrossEntropyWithLogits/SparseSoftmaxCrossEntropyWithLogits (defined at <ipython-input-45-f3542110fdb7>:4) ]]\n\t [[gradient_tape/sequential_4/embedding_4/embedding_lookup/Reshape/_60]]\n  (1) Invalid argument:  logits and labels must have the same first dimension, got logits shape [64000,2] and labels shape [32]\n\t [[node sparse_categorical_crossentropy/SparseSoftmaxCrossEntropyWithLogits/SparseSoftmaxCrossEntropyWithLogits (defined at <ipython-input-45-f3542110fdb7>:4) ]]\n0 successful operations.\n0 derived errors ignored. [Op:__inference_train_function_2545]\n\nFunction call stack:\ntrain_function -> train_function\n",
     "output_type": "error",
     "traceback": [
      "\u001b[1;31m---------------------------------------------------------------------------\u001b[0m",
      "\u001b[1;31mInvalidArgumentError\u001b[0m                      Traceback (most recent call last)",
      "\u001b[1;32m<ipython-input-45-f3542110fdb7>\u001b[0m in \u001b[0;36m<module>\u001b[1;34m\u001b[0m\n\u001b[0;32m      2\u001b[0m               \u001b[0mloss\u001b[0m\u001b[1;33m=\u001b[0m\u001b[1;34m'sparse_categorical_crossentropy'\u001b[0m\u001b[1;33m,\u001b[0m\u001b[1;33m\u001b[0m\u001b[1;33m\u001b[0m\u001b[0m\n\u001b[0;32m      3\u001b[0m               metrics=['accuracy'])\n\u001b[1;32m----> 4\u001b[1;33m \u001b[0mmodel\u001b[0m\u001b[1;33m.\u001b[0m\u001b[0mfit\u001b[0m\u001b[1;33m(\u001b[0m\u001b[0mtrain_X\u001b[0m\u001b[1;33m,\u001b[0m \u001b[0mtrain_y\u001b[0m\u001b[1;33m,\u001b[0m \u001b[0mepochs\u001b[0m\u001b[1;33m=\u001b[0m\u001b[1;36m5\u001b[0m\u001b[1;33m)\u001b[0m\u001b[1;33m\u001b[0m\u001b[1;33m\u001b[0m\u001b[0m\n\u001b[0m",
      "\u001b[1;32m~\\anaconda3\\envs\\tf\\lib\\site-packages\\tensorflow\\python\\keras\\engine\\training.py\u001b[0m in \u001b[0;36mfit\u001b[1;34m(self, x, y, batch_size, epochs, verbose, callbacks, validation_split, validation_data, shuffle, class_weight, sample_weight, initial_epoch, steps_per_epoch, validation_steps, validation_batch_size, validation_freq, max_queue_size, workers, use_multiprocessing)\u001b[0m\n\u001b[0;32m   1098\u001b[0m                 _r=1):\n\u001b[0;32m   1099\u001b[0m               \u001b[0mcallbacks\u001b[0m\u001b[1;33m.\u001b[0m\u001b[0mon_train_batch_begin\u001b[0m\u001b[1;33m(\u001b[0m\u001b[0mstep\u001b[0m\u001b[1;33m)\u001b[0m\u001b[1;33m\u001b[0m\u001b[1;33m\u001b[0m\u001b[0m\n\u001b[1;32m-> 1100\u001b[1;33m               \u001b[0mtmp_logs\u001b[0m \u001b[1;33m=\u001b[0m \u001b[0mself\u001b[0m\u001b[1;33m.\u001b[0m\u001b[0mtrain_function\u001b[0m\u001b[1;33m(\u001b[0m\u001b[0miterator\u001b[0m\u001b[1;33m)\u001b[0m\u001b[1;33m\u001b[0m\u001b[1;33m\u001b[0m\u001b[0m\n\u001b[0m\u001b[0;32m   1101\u001b[0m               \u001b[1;32mif\u001b[0m \u001b[0mdata_handler\u001b[0m\u001b[1;33m.\u001b[0m\u001b[0mshould_sync\u001b[0m\u001b[1;33m:\u001b[0m\u001b[1;33m\u001b[0m\u001b[1;33m\u001b[0m\u001b[0m\n\u001b[0;32m   1102\u001b[0m                 \u001b[0mcontext\u001b[0m\u001b[1;33m.\u001b[0m\u001b[0masync_wait\u001b[0m\u001b[1;33m(\u001b[0m\u001b[1;33m)\u001b[0m\u001b[1;33m\u001b[0m\u001b[1;33m\u001b[0m\u001b[0m\n",
      "\u001b[1;32m~\\anaconda3\\envs\\tf\\lib\\site-packages\\tensorflow\\python\\eager\\def_function.py\u001b[0m in \u001b[0;36m__call__\u001b[1;34m(self, *args, **kwds)\u001b[0m\n\u001b[0;32m    826\u001b[0m     \u001b[0mtracing_count\u001b[0m \u001b[1;33m=\u001b[0m \u001b[0mself\u001b[0m\u001b[1;33m.\u001b[0m\u001b[0mexperimental_get_tracing_count\u001b[0m\u001b[1;33m(\u001b[0m\u001b[1;33m)\u001b[0m\u001b[1;33m\u001b[0m\u001b[1;33m\u001b[0m\u001b[0m\n\u001b[0;32m    827\u001b[0m     \u001b[1;32mwith\u001b[0m \u001b[0mtrace\u001b[0m\u001b[1;33m.\u001b[0m\u001b[0mTrace\u001b[0m\u001b[1;33m(\u001b[0m\u001b[0mself\u001b[0m\u001b[1;33m.\u001b[0m\u001b[0m_name\u001b[0m\u001b[1;33m)\u001b[0m \u001b[1;32mas\u001b[0m \u001b[0mtm\u001b[0m\u001b[1;33m:\u001b[0m\u001b[1;33m\u001b[0m\u001b[1;33m\u001b[0m\u001b[0m\n\u001b[1;32m--> 828\u001b[1;33m       \u001b[0mresult\u001b[0m \u001b[1;33m=\u001b[0m \u001b[0mself\u001b[0m\u001b[1;33m.\u001b[0m\u001b[0m_call\u001b[0m\u001b[1;33m(\u001b[0m\u001b[1;33m*\u001b[0m\u001b[0margs\u001b[0m\u001b[1;33m,\u001b[0m \u001b[1;33m**\u001b[0m\u001b[0mkwds\u001b[0m\u001b[1;33m)\u001b[0m\u001b[1;33m\u001b[0m\u001b[1;33m\u001b[0m\u001b[0m\n\u001b[0m\u001b[0;32m    829\u001b[0m       \u001b[0mcompiler\u001b[0m \u001b[1;33m=\u001b[0m \u001b[1;34m\"xla\"\u001b[0m \u001b[1;32mif\u001b[0m \u001b[0mself\u001b[0m\u001b[1;33m.\u001b[0m\u001b[0m_experimental_compile\u001b[0m \u001b[1;32melse\u001b[0m \u001b[1;34m\"nonXla\"\u001b[0m\u001b[1;33m\u001b[0m\u001b[1;33m\u001b[0m\u001b[0m\n\u001b[0;32m    830\u001b[0m       \u001b[0mnew_tracing_count\u001b[0m \u001b[1;33m=\u001b[0m \u001b[0mself\u001b[0m\u001b[1;33m.\u001b[0m\u001b[0mexperimental_get_tracing_count\u001b[0m\u001b[1;33m(\u001b[0m\u001b[1;33m)\u001b[0m\u001b[1;33m\u001b[0m\u001b[1;33m\u001b[0m\u001b[0m\n",
      "\u001b[1;32m~\\anaconda3\\envs\\tf\\lib\\site-packages\\tensorflow\\python\\eager\\def_function.py\u001b[0m in \u001b[0;36m_call\u001b[1;34m(self, *args, **kwds)\u001b[0m\n\u001b[0;32m    886\u001b[0m         \u001b[1;31m# Lifting succeeded, so variables are initialized and we can run the\u001b[0m\u001b[1;33m\u001b[0m\u001b[1;33m\u001b[0m\u001b[1;33m\u001b[0m\u001b[0m\n\u001b[0;32m    887\u001b[0m         \u001b[1;31m# stateless function.\u001b[0m\u001b[1;33m\u001b[0m\u001b[1;33m\u001b[0m\u001b[1;33m\u001b[0m\u001b[0m\n\u001b[1;32m--> 888\u001b[1;33m         \u001b[1;32mreturn\u001b[0m \u001b[0mself\u001b[0m\u001b[1;33m.\u001b[0m\u001b[0m_stateless_fn\u001b[0m\u001b[1;33m(\u001b[0m\u001b[1;33m*\u001b[0m\u001b[0margs\u001b[0m\u001b[1;33m,\u001b[0m \u001b[1;33m**\u001b[0m\u001b[0mkwds\u001b[0m\u001b[1;33m)\u001b[0m\u001b[1;33m\u001b[0m\u001b[1;33m\u001b[0m\u001b[0m\n\u001b[0m\u001b[0;32m    889\u001b[0m     \u001b[1;32melse\u001b[0m\u001b[1;33m:\u001b[0m\u001b[1;33m\u001b[0m\u001b[1;33m\u001b[0m\u001b[0m\n\u001b[0;32m    890\u001b[0m       \u001b[0m_\u001b[0m\u001b[1;33m,\u001b[0m \u001b[0m_\u001b[0m\u001b[1;33m,\u001b[0m \u001b[0m_\u001b[0m\u001b[1;33m,\u001b[0m \u001b[0mfiltered_flat_args\u001b[0m \u001b[1;33m=\u001b[0m\u001b[0;31m \u001b[0m\u001b[0;31m\\\u001b[0m\u001b[1;33m\u001b[0m\u001b[1;33m\u001b[0m\u001b[0m\n",
      "\u001b[1;32m~\\anaconda3\\envs\\tf\\lib\\site-packages\\tensorflow\\python\\eager\\function.py\u001b[0m in \u001b[0;36m__call__\u001b[1;34m(self, *args, **kwargs)\u001b[0m\n\u001b[0;32m   2940\u001b[0m       (graph_function,\n\u001b[0;32m   2941\u001b[0m        filtered_flat_args) = self._maybe_define_function(args, kwargs)\n\u001b[1;32m-> 2942\u001b[1;33m     return graph_function._call_flat(\n\u001b[0m\u001b[0;32m   2943\u001b[0m         filtered_flat_args, captured_inputs=graph_function.captured_inputs)  # pylint: disable=protected-access\n\u001b[0;32m   2944\u001b[0m \u001b[1;33m\u001b[0m\u001b[0m\n",
      "\u001b[1;32m~\\anaconda3\\envs\\tf\\lib\\site-packages\\tensorflow\\python\\eager\\function.py\u001b[0m in \u001b[0;36m_call_flat\u001b[1;34m(self, args, captured_inputs, cancellation_manager)\u001b[0m\n\u001b[0;32m   1916\u001b[0m         and executing_eagerly):\n\u001b[0;32m   1917\u001b[0m       \u001b[1;31m# No tape is watching; skip to running the function.\u001b[0m\u001b[1;33m\u001b[0m\u001b[1;33m\u001b[0m\u001b[1;33m\u001b[0m\u001b[0m\n\u001b[1;32m-> 1918\u001b[1;33m       return self._build_call_outputs(self._inference_function.call(\n\u001b[0m\u001b[0;32m   1919\u001b[0m           ctx, args, cancellation_manager=cancellation_manager))\n\u001b[0;32m   1920\u001b[0m     forward_backward = self._select_forward_and_backward_functions(\n",
      "\u001b[1;32m~\\anaconda3\\envs\\tf\\lib\\site-packages\\tensorflow\\python\\eager\\function.py\u001b[0m in \u001b[0;36mcall\u001b[1;34m(self, ctx, args, cancellation_manager)\u001b[0m\n\u001b[0;32m    553\u001b[0m       \u001b[1;32mwith\u001b[0m \u001b[0m_InterpolateFunctionError\u001b[0m\u001b[1;33m(\u001b[0m\u001b[0mself\u001b[0m\u001b[1;33m)\u001b[0m\u001b[1;33m:\u001b[0m\u001b[1;33m\u001b[0m\u001b[1;33m\u001b[0m\u001b[0m\n\u001b[0;32m    554\u001b[0m         \u001b[1;32mif\u001b[0m \u001b[0mcancellation_manager\u001b[0m \u001b[1;32mis\u001b[0m \u001b[1;32mNone\u001b[0m\u001b[1;33m:\u001b[0m\u001b[1;33m\u001b[0m\u001b[1;33m\u001b[0m\u001b[0m\n\u001b[1;32m--> 555\u001b[1;33m           outputs = execute.execute(\n\u001b[0m\u001b[0;32m    556\u001b[0m               \u001b[0mstr\u001b[0m\u001b[1;33m(\u001b[0m\u001b[0mself\u001b[0m\u001b[1;33m.\u001b[0m\u001b[0msignature\u001b[0m\u001b[1;33m.\u001b[0m\u001b[0mname\u001b[0m\u001b[1;33m)\u001b[0m\u001b[1;33m,\u001b[0m\u001b[1;33m\u001b[0m\u001b[1;33m\u001b[0m\u001b[0m\n\u001b[0;32m    557\u001b[0m               \u001b[0mnum_outputs\u001b[0m\u001b[1;33m=\u001b[0m\u001b[0mself\u001b[0m\u001b[1;33m.\u001b[0m\u001b[0m_num_outputs\u001b[0m\u001b[1;33m,\u001b[0m\u001b[1;33m\u001b[0m\u001b[1;33m\u001b[0m\u001b[0m\n",
      "\u001b[1;32m~\\anaconda3\\envs\\tf\\lib\\site-packages\\tensorflow\\python\\eager\\execute.py\u001b[0m in \u001b[0;36mquick_execute\u001b[1;34m(op_name, num_outputs, inputs, attrs, ctx, name)\u001b[0m\n\u001b[0;32m     57\u001b[0m   \u001b[1;32mtry\u001b[0m\u001b[1;33m:\u001b[0m\u001b[1;33m\u001b[0m\u001b[1;33m\u001b[0m\u001b[0m\n\u001b[0;32m     58\u001b[0m     \u001b[0mctx\u001b[0m\u001b[1;33m.\u001b[0m\u001b[0mensure_initialized\u001b[0m\u001b[1;33m(\u001b[0m\u001b[1;33m)\u001b[0m\u001b[1;33m\u001b[0m\u001b[1;33m\u001b[0m\u001b[0m\n\u001b[1;32m---> 59\u001b[1;33m     tensors = pywrap_tfe.TFE_Py_Execute(ctx._handle, device_name, op_name,\n\u001b[0m\u001b[0;32m     60\u001b[0m                                         inputs, attrs, num_outputs)\n\u001b[0;32m     61\u001b[0m   \u001b[1;32mexcept\u001b[0m \u001b[0mcore\u001b[0m\u001b[1;33m.\u001b[0m\u001b[0m_NotOkStatusException\u001b[0m \u001b[1;32mas\u001b[0m \u001b[0me\u001b[0m\u001b[1;33m:\u001b[0m\u001b[1;33m\u001b[0m\u001b[1;33m\u001b[0m\u001b[0m\n",
      "\u001b[1;31mInvalidArgumentError\u001b[0m: 2 root error(s) found.\n  (0) Invalid argument:  logits and labels must have the same first dimension, got logits shape [64000,2] and labels shape [32]\n\t [[node sparse_categorical_crossentropy/SparseSoftmaxCrossEntropyWithLogits/SparseSoftmaxCrossEntropyWithLogits (defined at <ipython-input-45-f3542110fdb7>:4) ]]\n\t [[gradient_tape/sequential_4/embedding_4/embedding_lookup/Reshape/_60]]\n  (1) Invalid argument:  logits and labels must have the same first dimension, got logits shape [64000,2] and labels shape [32]\n\t [[node sparse_categorical_crossentropy/SparseSoftmaxCrossEntropyWithLogits/SparseSoftmaxCrossEntropyWithLogits (defined at <ipython-input-45-f3542110fdb7>:4) ]]\n0 successful operations.\n0 derived errors ignored. [Op:__inference_train_function_2545]\n\nFunction call stack:\ntrain_function -> train_function\n"
     ]
    }
   ],
   "source": [
    "\n",
    "model.compile(optimizer='adam',\n",
    "              loss='sparse_categorical_crossentropy',\n",
    "              metrics=['accuracy'])\n",
    "model.fit(train_X, train_y, epochs=5)\n"
   ]
  },
  {
   "cell_type": "code",
   "execution_count": null,
   "metadata": {},
   "outputs": [],
   "source": [
    "model.evaluate(test_X, test_y, verbose=2)"
   ]
  }
 ],
 "metadata": {
  "kernelspec": {
   "display_name": "tf",
   "language": "python",
   "name": "tf"
  },
  "language_info": {
   "codemirror_mode": {
    "name": "ipython",
    "version": 3
   },
   "file_extension": ".py",
   "mimetype": "text/x-python",
   "name": "python",
   "nbconvert_exporter": "python",
   "pygments_lexer": "ipython3",
   "version": "3.8.8"
  }
 },
 "nbformat": 4,
 "nbformat_minor": 5
}
